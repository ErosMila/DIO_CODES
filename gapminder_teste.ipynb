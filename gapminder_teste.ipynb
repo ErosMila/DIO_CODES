{
  "nbformat": 4,
  "nbformat_minor": 0,
  "metadata": {
    "colab": {
      "name": "gapminder_teste.ipynb",
      "provenance": [],
      "collapsed_sections": [],
      "mount_file_id": "1YWVRlTc6B_vMCpazrnJw4wVq05CZaxLO",
      "authorship_tag": "ABX9TyOvb8RuAJevdwqMqr1nZauZ",
      "include_colab_link": true
    },
    "kernelspec": {
      "name": "python3",
      "display_name": "Python 3"
    },
    "language_info": {
      "name": "python"
    }
  },
  "cells": [
    {
      "cell_type": "markdown",
      "metadata": {
        "id": "view-in-github",
        "colab_type": "text"
      },
      "source": [
        "<a href=\"https://colab.research.google.com/github/ErosMila/DIO_CODES/blob/main/gapminder_teste.ipynb\" target=\"_parent\"><img src=\"https://colab.research.google.com/assets/colab-badge.svg\" alt=\"Open In Colab\"/></a>"
      ]
    },
    {
      "cell_type": "code",
      "metadata": {
        "id": "B2I8L7370m7q"
      },
      "source": [
        " ! pip install -q kaggle\n",
        "\n",
        " from google.colab import files"
      ],
      "execution_count": 4,
      "outputs": []
    },
    {
      "cell_type": "code",
      "metadata": {
        "id": "16bnteIJ4DIW"
      },
      "source": [
        "import pandas as pd"
      ],
      "execution_count": 6,
      "outputs": []
    },
    {
      "cell_type": "code",
      "metadata": {
        "id": "82-CJSFW6Z2t"
      },
      "source": [
        "dados = pd.read_csv(\"/content/drive/MyDrive/Colab Notebooks/dataset/gapminder.csv\")"
      ],
      "execution_count": 7,
      "outputs": []
    },
    {
      "cell_type": "code",
      "metadata": {
        "colab": {
          "base_uri": "https://localhost:8080/",
          "height": 206
        },
        "id": "N7Ddp1Mp6iKN",
        "outputId": "be6e3abf-1a18-4e24-dca6-79d2a694af69"
      },
      "source": [
        "dados.head()"
      ],
      "execution_count": 9,
      "outputs": [
        {
          "output_type": "execute_result",
          "data": {
            "text/html": [
              "<div>\n",
              "<style scoped>\n",
              "    .dataframe tbody tr th:only-of-type {\n",
              "        vertical-align: middle;\n",
              "    }\n",
              "\n",
              "    .dataframe tbody tr th {\n",
              "        vertical-align: top;\n",
              "    }\n",
              "\n",
              "    .dataframe thead th {\n",
              "        text-align: right;\n",
              "    }\n",
              "</style>\n",
              "<table border=\"1\" class=\"dataframe\">\n",
              "  <thead>\n",
              "    <tr style=\"text-align: right;\">\n",
              "      <th></th>\n",
              "      <th>population</th>\n",
              "      <th>fertility</th>\n",
              "      <th>HIV</th>\n",
              "      <th>CO2</th>\n",
              "      <th>BMI_male</th>\n",
              "      <th>GDP</th>\n",
              "      <th>BMI_female</th>\n",
              "      <th>life</th>\n",
              "      <th>child_mortality</th>\n",
              "      <th>Region</th>\n",
              "    </tr>\n",
              "  </thead>\n",
              "  <tbody>\n",
              "    <tr>\n",
              "      <th>0</th>\n",
              "      <td>34811059.0</td>\n",
              "      <td>2.73</td>\n",
              "      <td>0.1</td>\n",
              "      <td>3.328945</td>\n",
              "      <td>24.59620</td>\n",
              "      <td>12314.0</td>\n",
              "      <td>129.9049</td>\n",
              "      <td>75.3</td>\n",
              "      <td>29.5</td>\n",
              "      <td>Middle East &amp; North Africa</td>\n",
              "    </tr>\n",
              "    <tr>\n",
              "      <th>1</th>\n",
              "      <td>19842251.0</td>\n",
              "      <td>6.43</td>\n",
              "      <td>2.0</td>\n",
              "      <td>1.474353</td>\n",
              "      <td>22.25083</td>\n",
              "      <td>7103.0</td>\n",
              "      <td>130.1247</td>\n",
              "      <td>58.3</td>\n",
              "      <td>192.0</td>\n",
              "      <td>Sub-Saharan Africa</td>\n",
              "    </tr>\n",
              "    <tr>\n",
              "      <th>2</th>\n",
              "      <td>40381860.0</td>\n",
              "      <td>2.24</td>\n",
              "      <td>0.5</td>\n",
              "      <td>4.785170</td>\n",
              "      <td>27.50170</td>\n",
              "      <td>14646.0</td>\n",
              "      <td>118.8915</td>\n",
              "      <td>75.5</td>\n",
              "      <td>15.4</td>\n",
              "      <td>America</td>\n",
              "    </tr>\n",
              "    <tr>\n",
              "      <th>3</th>\n",
              "      <td>2975029.0</td>\n",
              "      <td>1.40</td>\n",
              "      <td>0.1</td>\n",
              "      <td>1.804106</td>\n",
              "      <td>25.35542</td>\n",
              "      <td>7383.0</td>\n",
              "      <td>132.8108</td>\n",
              "      <td>72.5</td>\n",
              "      <td>20.0</td>\n",
              "      <td>Europe &amp; Central Asia</td>\n",
              "    </tr>\n",
              "    <tr>\n",
              "      <th>4</th>\n",
              "      <td>21370348.0</td>\n",
              "      <td>1.96</td>\n",
              "      <td>0.1</td>\n",
              "      <td>18.016313</td>\n",
              "      <td>27.56373</td>\n",
              "      <td>41312.0</td>\n",
              "      <td>117.3755</td>\n",
              "      <td>81.5</td>\n",
              "      <td>5.2</td>\n",
              "      <td>East Asia &amp; Pacific</td>\n",
              "    </tr>\n",
              "  </tbody>\n",
              "</table>\n",
              "</div>"
            ],
            "text/plain": [
              "   population  fertility  ...  child_mortality                      Region\n",
              "0  34811059.0       2.73  ...             29.5  Middle East & North Africa\n",
              "1  19842251.0       6.43  ...            192.0          Sub-Saharan Africa\n",
              "2  40381860.0       2.24  ...             15.4                     America\n",
              "3   2975029.0       1.40  ...             20.0       Europe & Central Asia\n",
              "4  21370348.0       1.96  ...              5.2         East Asia & Pacific\n",
              "\n",
              "[5 rows x 10 columns]"
            ]
          },
          "metadata": {
            "tags": []
          },
          "execution_count": 9
        }
      ]
    },
    {
      "cell_type": "code",
      "metadata": {
        "colab": {
          "base_uri": "https://localhost:8080/",
          "height": 463
        },
        "id": "1ZhmrLrd6xs8",
        "outputId": "d98d5c87-0323-4a0a-ea59-c2f48f7b7bd1"
      },
      "source": [
        "dados.hist()"
      ],
      "execution_count": 19,
      "outputs": [
        {
          "output_type": "execute_result",
          "data": {
            "text/plain": [
              "array([[<matplotlib.axes._subplots.AxesSubplot object at 0x7f74fc4a1490>,\n",
              "        <matplotlib.axes._subplots.AxesSubplot object at 0x7f74fc4d0510>,\n",
              "        <matplotlib.axes._subplots.AxesSubplot object at 0x7f74fc410310>],\n",
              "       [<matplotlib.axes._subplots.AxesSubplot object at 0x7f74fc3c8990>,\n",
              "        <matplotlib.axes._subplots.AxesSubplot object at 0x7f74fc389050>,\n",
              "        <matplotlib.axes._subplots.AxesSubplot object at 0x7f74fc341310>],\n",
              "       [<matplotlib.axes._subplots.AxesSubplot object at 0x7f74fc2f9890>,\n",
              "        <matplotlib.axes._subplots.AxesSubplot object at 0x7f74fc2b1350>,\n",
              "        <matplotlib.axes._subplots.AxesSubplot object at 0x7f74fc270410>]],\n",
              "      dtype=object)"
            ]
          },
          "metadata": {
            "tags": []
          },
          "execution_count": 19
        },
        {
          "output_type": "display_data",
          "data": {
            "image/png": "[encoded data removed]",
            "text/plain": [
              "<Figure size 432x288 with 9 Axes>"
            ]
          },
          "metadata": {
            "tags": [],
            "needs_background": "light"
          }
        }
      ]
    },
    {
      "cell_type": "code",
      "metadata": {
        "colab": {
          "base_uri": "https://localhost:8080/"
        },
        "id": "tG_NsDVn6zpG",
        "outputId": "b11cee8f-8f72-4ab1-ca4a-c07d42fa5f02"
      },
      "source": [
        "dados.columns"
      ],
      "execution_count": 12,
      "outputs": [
        {
          "output_type": "execute_result",
          "data": {
            "text/plain": [
              "Index(['population', 'fertility', 'HIV', 'CO2', 'BMI_male', 'GDP',\n",
              "       'BMI_female', 'life', 'child_mortality', 'Region'],\n",
              "      dtype='object')"
            ]
          },
          "metadata": {
            "tags": []
          },
          "execution_count": 12
        }
      ]
    },
    {
      "cell_type": "code",
      "metadata": {
        "colab": {
          "base_uri": "https://localhost:8080/"
        },
        "id": "J9LykJRH65xu",
        "outputId": "6d95c40e-bae5-4033-b4d1-19e90bd69042"
      },
      "source": [
        "dados.dtypes"
      ],
      "execution_count": 16,
      "outputs": [
        {
          "output_type": "execute_result",
          "data": {
            "text/plain": [
              "population         float64\n",
              "fertility          float64\n",
              "HIV                float64\n",
              "CO2                float64\n",
              "BMI_male           float64\n",
              "GDP                float64\n",
              "BMI_female         float64\n",
              "life               float64\n",
              "child_mortality    float64\n",
              "Region              object\n",
              "dtype: object"
            ]
          },
          "metadata": {
            "tags": []
          },
          "execution_count": 16
        }
      ]
    },
    {
      "cell_type": "code",
      "metadata": {
        "colab": {
          "base_uri": "https://localhost:8080/"
        },
        "id": "bncSagoD7AQ-",
        "outputId": "ee73f73a-24a6-42f9-8a07-b8e40fd68326"
      },
      "source": [
        "dados.tail"
      ],
      "execution_count": 17,
      "outputs": [
        {
          "output_type": "execute_result",
          "data": {
            "text/plain": [
              "<bound method NDFrame.tail of      population  fertility  ...  child_mortality                      Region\n",
              "0    34811059.0       2.73  ...             29.5  Middle East & North Africa\n",
              "1    19842251.0       6.43  ...            192.0          Sub-Saharan Africa\n",
              "2    40381860.0       2.24  ...             15.4                     America\n",
              "3     2975029.0       1.40  ...             20.0       Europe & Central Asia\n",
              "4    21370348.0       1.96  ...              5.2         East Asia & Pacific\n",
              "..          ...        ...  ...              ...                         ...\n",
              "134   3350832.0       2.11  ...             13.0                     America\n",
              "135  26952719.0       2.46  ...             49.2       Europe & Central Asia\n",
              "136  86589342.0       1.86  ...             26.2         East Asia & Pacific\n",
              "137  13114579.0       5.88  ...             94.9          Sub-Saharan Africa\n",
              "138  13495462.0       3.85  ...             98.3          Sub-Saharan Africa\n",
              "\n",
              "[139 rows x 10 columns]>"
            ]
          },
          "metadata": {
            "tags": []
          },
          "execution_count": 17
        }
      ]
    },
    {
      "cell_type": "code",
      "metadata": {
        "id": "KQM43x6g7IO9"
      },
      "source": [
        ""
      ],
      "execution_count": null,
      "outputs": []
    }
  ]
}